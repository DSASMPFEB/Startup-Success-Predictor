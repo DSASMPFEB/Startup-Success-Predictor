{
 "cells": [
  {
   "cell_type": "code",
   "execution_count": 174,
   "id": "eb6a55fd-7d9b-443d-81b4-50b341036c99",
   "metadata": {},
   "outputs": [],
   "source": [
    "import pandas as pd"
   ]
  },
  {
   "cell_type": "code",
   "execution_count": 184,
   "id": "79a32dc2-5fb5-4999-ad0c-a881ea37280b",
   "metadata": {},
   "outputs": [],
   "source": [
    "import requests\n",
    "from bs4 import BeautifulSoup\n",
    "import re\n",
    "import pandas as pd\n",
    "\n",
    "url = \"https://startuptalky.com/indian-startups-funding-investors-data-2025/\"\n",
    "headers = {\"User-Agent\": \"Mozilla/5.0\"}\n",
    "response = requests.get(url, headers=headers)\n",
    "soup = BeautifulSoup(response.text, \"html.parser\")\n",
    "\n",
    "# Extract all text\n",
    "text = soup.get_text()"
   ]
  },
  {
   "cell_type": "code",
   "execution_count": 195,
   "id": "d8e4e09c-6e8d-4bf3-8e6f-2ca5a5affb44",
   "metadata": {},
   "outputs": [],
   "source": [
    "from bs4 import BeautifulSoup\n",
    "import requests\n",
    "import pandas as pd\n",
    "import re\n",
    "\n",
    "url = \"https://startuptalky.com/indian-startups-funding-investors-data-2025/\"\n",
    "headers = {\"User-Agent\": \"Mozilla/5.0\"}\n",
    "response = requests.get(url, headers=headers)\n",
    "soup = BeautifulSoup(response.text, \"html.parser\")\n",
    "\n",
    "data = []\n",
    "\n",
    "# Loop through all tables\n",
    "for table in soup.find_all(\"table\"):\n",
    "    for row in table.find_all(\"tr\")[1:]:  # Skip header\n",
    "        cols = row.find_all(\"td\")\n",
    "        if len(cols) == 6:\n",
    "            name = cols[0].text.strip()\n",
    "            sector = cols[1].text.strip()\n",
    "            location = cols[2].text.strip()\n",
    "            amount = cols[3].text.strip()\n",
    "            round_type = cols[4].text.strip()\n",
    "            investors = cols[5].text.strip()\n",
    "\n",
    "            # Split location\n",
    "            location_parts = location.split(',')\n",
    "            city = location_parts[0].strip() if len(location_parts) > 1 else location\n",
    "            state = location_parts[1].strip() if len(location_parts) > 1 else \"\"\n",
    "\n",
    "            funding_total = amount.strip()  # Keep original format like \"$65 Mn\", \"Undisclosed\", etc.\n",
    "\n",
    "            # Count investors\n",
    "            investor_list = [i.strip() for i in re.split(r'[,/]', investors) if i.strip() and i != '—']\n",
    "            number_of_investors = len(investor_list)\n",
    "\n",
    "            data.append({\n",
    "                \"name\": name,\n",
    "                \"sector\": sector,\n",
    "                \"city\": city,\n",
    "                \"state\": state,\n",
    "                \"funding_total\": funding_total,\n",
    "                \"funding_round\": round_type,\n",
    "                \"number_of_investors\": number_of_investors,\n",
    "                \"investors\": \", \".join(investor_list)\n",
    "            })\n"
   ]
  },
  {
   "cell_type": "code",
   "execution_count": 196,
   "id": "8890b579-2a07-4bd3-9234-e887d8a0c606",
   "metadata": {},
   "outputs": [],
   "source": [
    "df = pd.DataFrame(data)\n",
    "df.to_csv(\"startuptalky_funding_2025.csv\", index=False)"
   ]
  },
  {
   "cell_type": "code",
   "execution_count": 198,
   "id": "89cc866d-da6b-4d06-962f-a7ab1d65afa4",
   "metadata": {},
   "outputs": [
    {
     "data": {
      "text/html": [
       "<div>\n",
       "<style scoped>\n",
       "    .dataframe tbody tr th:only-of-type {\n",
       "        vertical-align: middle;\n",
       "    }\n",
       "\n",
       "    .dataframe tbody tr th {\n",
       "        vertical-align: top;\n",
       "    }\n",
       "\n",
       "    .dataframe thead th {\n",
       "        text-align: right;\n",
       "    }\n",
       "</style>\n",
       "<table border=\"1\" class=\"dataframe\">\n",
       "  <thead>\n",
       "    <tr style=\"text-align: right;\">\n",
       "      <th></th>\n",
       "      <th>name</th>\n",
       "      <th>sector</th>\n",
       "      <th>city</th>\n",
       "      <th>state</th>\n",
       "      <th>funding_total</th>\n",
       "      <th>funding_round</th>\n",
       "      <th>number_of_investors</th>\n",
       "      <th>investors</th>\n",
       "    </tr>\n",
       "  </thead>\n",
       "  <tbody>\n",
       "    <tr>\n",
       "      <th>0</th>\n",
       "      <td>Art Of Time</td>\n",
       "      <td>Consumer Goods &gt; Retailers</td>\n",
       "      <td>Maharashtra</td>\n",
       "      <td></td>\n",
       "      <td>Undisclosed</td>\n",
       "      <td>Series B</td>\n",
       "      <td>1</td>\n",
       "      <td>Plutus Wealth Management</td>\n",
       "    </tr>\n",
       "    <tr>\n",
       "      <th>1</th>\n",
       "      <td>Sammaan Capital</td>\n",
       "      <td>Financial Services &gt; Consumer and SME Loans</td>\n",
       "      <td>Delhi</td>\n",
       "      <td></td>\n",
       "      <td>$1B</td>\n",
       "      <td>Post IPO</td>\n",
       "      <td>2</td>\n",
       "      <td>IHC, Marshall Wace</td>\n",
       "    </tr>\n",
       "    <tr>\n",
       "      <th>2</th>\n",
       "      <td>Freight Tiger</td>\n",
       "      <td>Consumer &gt; Logistics Tech</td>\n",
       "      <td>Maharashtra</td>\n",
       "      <td></td>\n",
       "      <td>$13.5M</td>\n",
       "      <td>Series C</td>\n",
       "      <td>2</td>\n",
       "      <td>Tata Motors, Lightspeed India</td>\n",
       "    </tr>\n",
       "    <tr>\n",
       "      <th>3</th>\n",
       "      <td>Recyclaro.com</td>\n",
       "      <td>Environment Tech &gt; Solid Waste Management Tech</td>\n",
       "      <td>Uttar Pradesh</td>\n",
       "      <td></td>\n",
       "      <td>$1M</td>\n",
       "      <td>Seed</td>\n",
       "      <td>1</td>\n",
       "      <td>CapitalOven</td>\n",
       "    </tr>\n",
       "    <tr>\n",
       "      <th>4</th>\n",
       "      <td>GrowXCD</td>\n",
       "      <td>Financial Services &gt; Consumer and SME Loans</td>\n",
       "      <td>Tamil Nadu</td>\n",
       "      <td></td>\n",
       "      <td>$22.5M</td>\n",
       "      <td>Series B</td>\n",
       "      <td>2</td>\n",
       "      <td>Blue Earth Capital, Lok Capital</td>\n",
       "    </tr>\n",
       "  </tbody>\n",
       "</table>\n",
       "</div>"
      ],
      "text/plain": [
       "              name                                          sector  \\\n",
       "0      Art Of Time                      Consumer Goods > Retailers   \n",
       "1  Sammaan Capital     Financial Services > Consumer and SME Loans   \n",
       "2    Freight Tiger                       Consumer > Logistics Tech   \n",
       "3    Recyclaro.com  Environment Tech > Solid Waste Management Tech   \n",
       "4          GrowXCD     Financial Services > Consumer and SME Loans   \n",
       "\n",
       "            city state funding_total funding_round  number_of_investors  \\\n",
       "0    Maharashtra         Undisclosed      Series B                    1   \n",
       "1          Delhi                 $1B      Post IPO                    2   \n",
       "2    Maharashtra              $13.5M      Series C                    2   \n",
       "3  Uttar Pradesh                 $1M          Seed                    1   \n",
       "4     Tamil Nadu              $22.5M      Series B                    2   \n",
       "\n",
       "                         investors  \n",
       "0         Plutus Wealth Management  \n",
       "1               IHC, Marshall Wace  \n",
       "2    Tata Motors, Lightspeed India  \n",
       "3                      CapitalOven  \n",
       "4  Blue Earth Capital, Lok Capital  "
      ]
     },
     "execution_count": 198,
     "metadata": {},
     "output_type": "execute_result"
    }
   ],
   "source": [
    "df.head()"
   ]
  },
  {
   "cell_type": "code",
   "execution_count": 199,
   "id": "08a35ca7-5a38-4f5e-97f4-60b095e6a7d5",
   "metadata": {},
   "outputs": [
    {
     "data": {
      "text/plain": [
       "(748, 8)"
      ]
     },
     "execution_count": 199,
     "metadata": {},
     "output_type": "execute_result"
    }
   ],
   "source": [
    "df.shape"
   ]
  },
  {
   "cell_type": "code",
   "execution_count": 200,
   "id": "03ceaaf2-c5a6-4090-9f57-c5b6ca26225a",
   "metadata": {},
   "outputs": [
    {
     "data": {
      "text/plain": [
       "name                   0\n",
       "sector                 0\n",
       "city                   0\n",
       "state                  0\n",
       "funding_total          0\n",
       "funding_round          0\n",
       "number_of_investors    0\n",
       "investors              0\n",
       "dtype: int64"
      ]
     },
     "execution_count": 200,
     "metadata": {},
     "output_type": "execute_result"
    }
   ],
   "source": [
    "df.isna().sum()"
   ]
  },
  {
   "cell_type": "code",
   "execution_count": null,
   "id": "2945fb89-9a4a-400e-af8d-a4c4ced2fb50",
   "metadata": {},
   "outputs": [],
   "source": []
  }
 ],
 "metadata": {
  "kernelspec": {
   "display_name": "Python 3 (ipykernel)",
   "language": "python",
   "name": "python3"
  },
  "language_info": {
   "codemirror_mode": {
    "name": "ipython",
    "version": 3
   },
   "file_extension": ".py",
   "mimetype": "text/x-python",
   "name": "python",
   "nbconvert_exporter": "python",
   "pygments_lexer": "ipython3",
   "version": "3.12.7"
  }
 },
 "nbformat": 4,
 "nbformat_minor": 5
}
